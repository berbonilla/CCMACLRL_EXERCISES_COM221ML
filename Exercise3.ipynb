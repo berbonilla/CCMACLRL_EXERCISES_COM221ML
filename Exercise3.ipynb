{
  "nbformat": 4,
  "nbformat_minor": 0,
  "metadata": {
    "colab": {
      "provenance": [],
      "include_colab_link": true
    },
    "kernelspec": {
      "name": "python3",
      "display_name": "Python 3"
    },
    "language_info": {
      "name": "python"
    }
  },
  "cells": [
    {
      "cell_type": "markdown",
      "metadata": {
        "id": "view-in-github",
        "colab_type": "text"
      },
      "source": [
        "<a href=\"https://colab.research.google.com/github/berbonilla/CCMACLRL_EXERCISES_COM221ML/blob/main/Exercise3.ipynb\" target=\"_parent\"><img src=\"https://colab.research.google.com/assets/colab-badge.svg\" alt=\"Open In Colab\"/></a>"
      ]
    },
    {
      "cell_type": "markdown",
      "source": [
        "# Exercise 3\n",
        "\n",
        "Create a model using K-Nearest Neigbors to perform classification using the personality dataset.\n",
        "\n",
        "0 -'introvert'\n",
        "\n",
        "1 - 'extrovert'"
      ],
      "metadata": {
        "id": "XhYYx_KOpE5Z"
      }
    },
    {
      "cell_type": "markdown",
      "source": [
        "## A. Import libraries"
      ],
      "metadata": {
        "id": "yvFmoS5VnyZf"
      }
    },
    {
      "cell_type": "code",
      "execution_count": 834,
      "metadata": {
        "id": "VLttupn-Tlcy"
      },
      "outputs": [],
      "source": [
        "import numpy as np\n",
        "import pandas as pd\n",
        "import matplotlib.pyplot as plt\n",
        "\n",
        "import sklearn\n",
        "from sklearn import metrics\n",
        "from sklearn.datasets import load_breast_cancer\n",
        "from sklearn.model_selection import train_test_split\n",
        "from sklearn.neighbors import KNeighborsClassifier\n",
        "from sklearn.metrics import accuracy_score, precision_score, recall_score, f1_score, confusion_matrix, ConfusionMatrixDisplay"
      ]
    },
    {
      "cell_type": "markdown",
      "source": [
        "## B. Load and understand the dataset"
      ],
      "metadata": {
        "id": "wfADF4zjn15q"
      }
    },
    {
      "cell_type": "code",
      "source": [
        "df = pd.read_excel(\"personality.xlsx\")"
      ],
      "metadata": {
        "id": "9HfPRONlTzM1"
      },
      "execution_count": 835,
      "outputs": []
    },
    {
      "cell_type": "markdown",
      "source": [
        "1. Display the summary of all the features of the dataset using `.info()`"
      ],
      "metadata": {
        "id": "yVS-w6Vyp0yS"
      }
    },
    {
      "cell_type": "code",
      "source": [
        "df.info()"
      ],
      "metadata": {
        "id": "lITZPPruT5An",
        "colab": {
          "base_uri": "https://localhost:8080/"
        },
        "outputId": "f0c12c08-2041-4823-87ac-c42659d6fb79"
      },
      "execution_count": 836,
      "outputs": [
        {
          "output_type": "stream",
          "name": "stdout",
          "text": [
            "<class 'pandas.core.frame.DataFrame'>\n",
            "RangeIndex: 50 entries, 0 to 49\n",
            "Data columns (total 6 columns):\n",
            " #   Column                       Non-Null Count  Dtype \n",
            "---  ------                       --------------  ----- \n",
            " 0   Name/Alias                   50 non-null     object\n",
            " 1   Post/Share Frequently?       50 non-null     int64 \n",
            " 2   Active in social media?      50 non-null     int64 \n",
            " 3   Replies to comments?         50 non-null     int64 \n",
            " 4   Number of friends/followers  50 non-null     int64 \n",
            " 5   Personality                  50 non-null     int64 \n",
            "dtypes: int64(5), object(1)\n",
            "memory usage: 2.5+ KB\n"
          ]
        }
      ]
    },
    {
      "cell_type": "markdown",
      "source": [
        "2. Display the total number of samples from each label using `.value_counts()`"
      ],
      "metadata": {
        "id": "KgW0AJJgqlxA"
      }
    },
    {
      "cell_type": "code",
      "source": [
        "df.value_counts()\n",
        "df.drop(columns=(\"Name/Alias\"), inplace=True)"
      ],
      "metadata": {
        "id": "S3R58V7uqkyr"
      },
      "execution_count": 837,
      "outputs": []
    },
    {
      "cell_type": "markdown",
      "source": [
        "## C. Split the dataset into training and test set"
      ],
      "metadata": {
        "id": "VFREr8J_oW0k"
      }
    },
    {
      "cell_type": "markdown",
      "source": [
        "3. Convert the features into an numpy array using `.values()` and store it in a variable \"X\""
      ],
      "metadata": {
        "id": "cVRjywv5q_x5"
      }
    },
    {
      "cell_type": "code",
      "source": [
        "X = df.drop(columns=['Personality']).values"
      ],
      "metadata": {
        "id": "jXLzLDjuVcgI"
      },
      "execution_count": 838,
      "outputs": []
    },
    {
      "cell_type": "markdown",
      "source": [
        "4. Convert the labels into an numpy array using `.values()` and store it in a variable \"y\""
      ],
      "metadata": {
        "id": "zw8QxWNVrjIq"
      }
    },
    {
      "cell_type": "code",
      "source": [
        "y = df['Personality'].values"
      ],
      "metadata": {
        "id": "R9L1WVXpVsBi"
      },
      "execution_count": 839,
      "outputs": []
    },
    {
      "cell_type": "markdown",
      "source": [
        "5. Use `train_test_split()` to split the data.\n",
        "\n",
        "- Declare a variable `X_train` that will hold the training data\n",
        "- Declare a variable `X_test` that will hold the test data\n",
        "- Declare a variable `y_train` that will hold the label of the training data\n",
        "- Declare a variable `y_test` that will hold the label of the test data\n"
      ],
      "metadata": {
        "id": "1PnnfSX_ru6a"
      }
    },
    {
      "cell_type": "code",
      "source": [
        "X_train, X_test, y_train, y_test = train_test_split(X,\n",
        "                                                    y,\n",
        "                                                    test_size=0.2,\n",
        "                                                    random_state=8)\n",
        "print(X_train.shape)\n",
        "print(y_train.shape)\n",
        "print(X_test.shape)\n",
        "print(y_test.shape)"
      ],
      "metadata": {
        "id": "gzDeHxnVWXk8",
        "colab": {
          "base_uri": "https://localhost:8080/"
        },
        "outputId": "f9cff2bf-ab24-4835-bc93-0897d3ea80af"
      },
      "execution_count": 840,
      "outputs": [
        {
          "output_type": "stream",
          "name": "stdout",
          "text": [
            "(40, 4)\n",
            "(40,)\n",
            "(10, 4)\n",
            "(10,)\n"
          ]
        }
      ]
    },
    {
      "cell_type": "markdown",
      "source": [
        "## D. Create the model"
      ],
      "metadata": {
        "id": "IiJE-aYIocKX"
      }
    },
    {
      "cell_type": "markdown",
      "source": [
        "6. Use KNN as a classifier by using `KNeighborsClassifier()`"
      ],
      "metadata": {
        "id": "u71kVVeMosWD"
      }
    },
    {
      "cell_type": "code",
      "source": [
        "knn = KNeighborsClassifier(n_neighbors=16)"
      ],
      "metadata": {
        "id": "49H5F2P-WymH"
      },
      "execution_count": 841,
      "outputs": []
    },
    {
      "cell_type": "markdown",
      "source": [
        "7. Train the model using the `.fit()`"
      ],
      "metadata": {
        "id": "J2aCQkTqou8x"
      }
    },
    {
      "cell_type": "code",
      "source": [
        "knn.fit(X_train, y_train)"
      ],
      "metadata": {
        "id": "jQREIyAfXEwf",
        "colab": {
          "base_uri": "https://localhost:8080/",
          "height": 75
        },
        "outputId": "4533c052-4682-41cc-c76d-b3a445516d31"
      },
      "execution_count": 842,
      "outputs": [
        {
          "output_type": "execute_result",
          "data": {
            "text/plain": [
              "KNeighborsClassifier(n_neighbors=16)"
            ],
            "text/html": [
              "<style>#sk-container-id-47 {color: black;}#sk-container-id-47 pre{padding: 0;}#sk-container-id-47 div.sk-toggleable {background-color: white;}#sk-container-id-47 label.sk-toggleable__label {cursor: pointer;display: block;width: 100%;margin-bottom: 0;padding: 0.3em;box-sizing: border-box;text-align: center;}#sk-container-id-47 label.sk-toggleable__label-arrow:before {content: \"▸\";float: left;margin-right: 0.25em;color: #696969;}#sk-container-id-47 label.sk-toggleable__label-arrow:hover:before {color: black;}#sk-container-id-47 div.sk-estimator:hover label.sk-toggleable__label-arrow:before {color: black;}#sk-container-id-47 div.sk-toggleable__content {max-height: 0;max-width: 0;overflow: hidden;text-align: left;background-color: #f0f8ff;}#sk-container-id-47 div.sk-toggleable__content pre {margin: 0.2em;color: black;border-radius: 0.25em;background-color: #f0f8ff;}#sk-container-id-47 input.sk-toggleable__control:checked~div.sk-toggleable__content {max-height: 200px;max-width: 100%;overflow: auto;}#sk-container-id-47 input.sk-toggleable__control:checked~label.sk-toggleable__label-arrow:before {content: \"▾\";}#sk-container-id-47 div.sk-estimator input.sk-toggleable__control:checked~label.sk-toggleable__label {background-color: #d4ebff;}#sk-container-id-47 div.sk-label input.sk-toggleable__control:checked~label.sk-toggleable__label {background-color: #d4ebff;}#sk-container-id-47 input.sk-hidden--visually {border: 0;clip: rect(1px 1px 1px 1px);clip: rect(1px, 1px, 1px, 1px);height: 1px;margin: -1px;overflow: hidden;padding: 0;position: absolute;width: 1px;}#sk-container-id-47 div.sk-estimator {font-family: monospace;background-color: #f0f8ff;border: 1px dotted black;border-radius: 0.25em;box-sizing: border-box;margin-bottom: 0.5em;}#sk-container-id-47 div.sk-estimator:hover {background-color: #d4ebff;}#sk-container-id-47 div.sk-parallel-item::after {content: \"\";width: 100%;border-bottom: 1px solid gray;flex-grow: 1;}#sk-container-id-47 div.sk-label:hover label.sk-toggleable__label {background-color: #d4ebff;}#sk-container-id-47 div.sk-serial::before {content: \"\";position: absolute;border-left: 1px solid gray;box-sizing: border-box;top: 0;bottom: 0;left: 50%;z-index: 0;}#sk-container-id-47 div.sk-serial {display: flex;flex-direction: column;align-items: center;background-color: white;padding-right: 0.2em;padding-left: 0.2em;position: relative;}#sk-container-id-47 div.sk-item {position: relative;z-index: 1;}#sk-container-id-47 div.sk-parallel {display: flex;align-items: stretch;justify-content: center;background-color: white;position: relative;}#sk-container-id-47 div.sk-item::before, #sk-container-id-47 div.sk-parallel-item::before {content: \"\";position: absolute;border-left: 1px solid gray;box-sizing: border-box;top: 0;bottom: 0;left: 50%;z-index: -1;}#sk-container-id-47 div.sk-parallel-item {display: flex;flex-direction: column;z-index: 1;position: relative;background-color: white;}#sk-container-id-47 div.sk-parallel-item:first-child::after {align-self: flex-end;width: 50%;}#sk-container-id-47 div.sk-parallel-item:last-child::after {align-self: flex-start;width: 50%;}#sk-container-id-47 div.sk-parallel-item:only-child::after {width: 0;}#sk-container-id-47 div.sk-dashed-wrapped {border: 1px dashed gray;margin: 0 0.4em 0.5em 0.4em;box-sizing: border-box;padding-bottom: 0.4em;background-color: white;}#sk-container-id-47 div.sk-label label {font-family: monospace;font-weight: bold;display: inline-block;line-height: 1.2em;}#sk-container-id-47 div.sk-label-container {text-align: center;}#sk-container-id-47 div.sk-container {/* jupyter's `normalize.less` sets `[hidden] { display: none; }` but bootstrap.min.css set `[hidden] { display: none !important; }` so we also need the `!important` here to be able to override the default hidden behavior on the sphinx rendered scikit-learn.org. See: https://github.com/scikit-learn/scikit-learn/issues/21755 */display: inline-block !important;position: relative;}#sk-container-id-47 div.sk-text-repr-fallback {display: none;}</style><div id=\"sk-container-id-47\" class=\"sk-top-container\"><div class=\"sk-text-repr-fallback\"><pre>KNeighborsClassifier(n_neighbors=16)</pre><b>In a Jupyter environment, please rerun this cell to show the HTML representation or trust the notebook. <br />On GitHub, the HTML representation is unable to render, please try loading this page with nbviewer.org.</b></div><div class=\"sk-container\" hidden><div class=\"sk-item\"><div class=\"sk-estimator sk-toggleable\"><input class=\"sk-toggleable__control sk-hidden--visually\" id=\"sk-estimator-id-47\" type=\"checkbox\" checked><label for=\"sk-estimator-id-47\" class=\"sk-toggleable__label sk-toggleable__label-arrow\">KNeighborsClassifier</label><div class=\"sk-toggleable__content\"><pre>KNeighborsClassifier(n_neighbors=16)</pre></div></div></div></div></div>"
            ]
          },
          "metadata": {},
          "execution_count": 842
        }
      ]
    },
    {
      "cell_type": "markdown",
      "source": [
        "8. Test the model using the `.predict()`"
      ],
      "metadata": {
        "id": "KLXaUqqto2cu"
      }
    },
    {
      "cell_type": "code",
      "source": [
        "y_pred = knn.predict(X_test)"
      ],
      "metadata": {
        "id": "a5xBSYn4XMPf"
      },
      "execution_count": 843,
      "outputs": []
    },
    {
      "cell_type": "markdown",
      "source": [
        "## Evaluate the model"
      ],
      "metadata": {
        "id": "-ykdOOfoo8Qz"
      }
    },
    {
      "cell_type": "markdown",
      "source": [
        "9. Create a confusion matrix"
      ],
      "metadata": {
        "id": "VL_iWAmLpa3T"
      }
    },
    {
      "cell_type": "code",
      "source": [
        "conf_matrix = confusion_matrix(y_pred, y_test, labels=knn.classes_)\n",
        "\n",
        "disp = ConfusionMatrixDisplay(confusion_matrix=conf_matrix,\n",
        "                              display_labels=knn.classes_)\n",
        "disp.plot()"
      ],
      "metadata": {
        "id": "w9sRY_71XzR3",
        "colab": {
          "base_uri": "https://localhost:8080/",
          "height": 472
        },
        "outputId": "59a22091-f284-4424-ccbc-79679e876a0e"
      },
      "execution_count": 844,
      "outputs": [
        {
          "output_type": "execute_result",
          "data": {
            "text/plain": [
              "<sklearn.metrics._plot.confusion_matrix.ConfusionMatrixDisplay at 0x7e08bfeb0400>"
            ]
          },
          "metadata": {},
          "execution_count": 844
        },
        {
          "output_type": "display_data",
          "data": {
            "text/plain": [
              "<Figure size 640x480 with 2 Axes>"
            ],
            "image/png": "[encoded data removed]"
          },
          "metadata": {}
        }
      ]
    },
    {
      "cell_type": "markdown",
      "source": [
        "10. Display the accuracy"
      ],
      "metadata": {
        "id": "a869sLN1srbH"
      }
    },
    {
      "cell_type": "code",
      "source": [
        "metrics.accuracy_score(y_test, y_pred)"
      ],
      "metadata": {
        "id": "6KWRq87Qs01v",
        "colab": {
          "base_uri": "https://localhost:8080/"
        },
        "outputId": "f9039a46-e947-4a70-a6f3-1685adef3442"
      },
      "execution_count": 845,
      "outputs": [
        {
          "output_type": "execute_result",
          "data": {
            "text/plain": [
              "1.0"
            ]
          },
          "metadata": {},
          "execution_count": 845
        }
      ]
    },
    {
      "cell_type": "markdown",
      "source": [
        "11. Display the precision"
      ],
      "metadata": {
        "id": "TmJZhC8Jstp-"
      }
    },
    {
      "cell_type": "code",
      "source": [
        "precision = precision_score(y_test, y_pred, average=None)\n",
        "print(\"Precision:\", precision)"
      ],
      "metadata": {
        "id": "C19ePb5Os1N0",
        "colab": {
          "base_uri": "https://localhost:8080/"
        },
        "outputId": "6ccb2f57-561a-4b5c-ad1a-7fcd341b1ab3"
      },
      "execution_count": 846,
      "outputs": [
        {
          "output_type": "stream",
          "name": "stdout",
          "text": [
            "Precision: [1. 1.]\n"
          ]
        }
      ]
    },
    {
      "cell_type": "markdown",
      "source": [
        "12. Display the recall"
      ],
      "metadata": {
        "id": "gUy5spuhsvVx"
      }
    },
    {
      "cell_type": "code",
      "source": [
        "recall = recall_score(y_test, y_pred, average=None)\n",
        "print(\"Recall:\", recall)"
      ],
      "metadata": {
        "id": "iqym3xvms139",
        "colab": {
          "base_uri": "https://localhost:8080/"
        },
        "outputId": "a0f95916-ab3b-4834-b4ea-4232c234b69f"
      },
      "execution_count": 847,
      "outputs": [
        {
          "output_type": "stream",
          "name": "stdout",
          "text": [
            "Recall: [1. 1.]\n"
          ]
        }
      ]
    },
    {
      "cell_type": "markdown",
      "source": [
        "13. Display the f1-score"
      ],
      "metadata": {
        "id": "mbQJQG3fsxVJ"
      }
    },
    {
      "cell_type": "code",
      "source": [
        "f1 = f1_score(y_test, y_pred, average=None)\n",
        "print(\"f1-score:\", f1)"
      ],
      "metadata": {
        "id": "YvBGhAzPs2ht",
        "colab": {
          "base_uri": "https://localhost:8080/"
        },
        "outputId": "e58760f3-f558-48bc-f3ba-ea1d72fa2620"
      },
      "execution_count": 848,
      "outputs": [
        {
          "output_type": "stream",
          "name": "stdout",
          "text": [
            "f1-score: [1. 1.]\n"
          ]
        }
      ]
    },
    {
      "cell_type": "code",
      "source": [
        "knn.predict([[0,1,0,1000]])"
      ],
      "metadata": {
        "colab": {
          "base_uri": "https://localhost:8080/"
        },
        "id": "2FIU5O70bqaL",
        "outputId": "a5b594b1-302f-4101-e166-1789abfe2610"
      },
      "execution_count": 849,
      "outputs": [
        {
          "output_type": "execute_result",
          "data": {
            "text/plain": [
              "array([0])"
            ]
          },
          "metadata": {},
          "execution_count": 849
        }
      ]
    },
    {
      "cell_type": "code",
      "source": [
        "k_range = list(range(1,30))\n",
        "scores = []\n",
        "\n",
        "for k in k_range:\n",
        "\n",
        "    knn = KNeighborsClassifier(n_neighbors=k)\n",
        "\n",
        "    # Train the model\n",
        "    knn.fit(X_train, y_train)\n",
        "\n",
        "    # Test the model\n",
        "    y_pred = knn.predict(X_test)\n",
        "    scores.append(metrics.accuracy_score(y_test, y_pred))\n",
        "\n",
        "plt.plot(k_range, scores)\n",
        "plt.xlabel('Value of k for KNN')\n",
        "plt.ylabel('Accuracy Score')\n",
        "plt.title('Accuracy Scores for Values of k of k-Nearest-Neighbors')\n",
        "plt.show()"
      ],
      "metadata": {
        "colab": {
          "base_uri": "https://localhost:8080/",
          "height": 472
        },
        "id": "5P-Pnbo4Sr-G",
        "outputId": "25e0cb07-d1f0-4af5-b719-135285794997"
      },
      "execution_count": 850,
      "outputs": [
        {
          "output_type": "display_data",
          "data": {
            "text/plain": [
              "<Figure size 640x480 with 1 Axes>"
            ],
            "image/png": "[encoded data removed]"
          },
          "metadata": {}
        }
      ]
    }
  ]
}